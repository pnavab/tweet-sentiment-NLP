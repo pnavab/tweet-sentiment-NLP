{
 "cells": [
  {
   "cell_type": "code",
   "execution_count": null,
   "metadata": {},
   "outputs": [],
   "source": [
    "# First install Kaggle and opendatasets to download from Kaggle since file too big\n",
    "!pip install kaggle\n",
    "!pip install opendatasets\n",
    "import opendatasets as od\n",
    "import pandas as pd\n",
    "\n",
    "# You will need Kaggle username and key, use mine:\n",
    "# ppabloo\n",
    "# \n",
    "od.download(\"https://www.kaggle.com/datasets/kazanova/sentiment140/\")\n",
    "\n",
    "#Read the dataset\n",
    "df = pd.read_csv('./sentiment140/training.1600000.processed.noemoticon.csv')"
   ]
  }
 ],
 "metadata": {
  "language_info": {
   "name": "python"
  }
 },
 "nbformat": 4,
 "nbformat_minor": 2
}
